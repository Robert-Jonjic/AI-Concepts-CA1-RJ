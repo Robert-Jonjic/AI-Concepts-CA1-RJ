{
 "cells": [
  {
   "cell_type": "markdown",
   "id": "50bb660f",
   "metadata": {},
   "source": [
    "# Pathfinding Algorithms Comparison\n",
    "This notebook compares three pathfinding algorithms:\n",
    "- **Breadth-First Search (BFS)**\n",
    "- **Dijkstra's Algorithm**\n",
    "- **A\\* Algorithm**\n",
    "\n",
    "The task is to find the best route from **Tipperary** to **Sligo** on an Irish map with cities as nodes and distances as edge weights.\n",
    "Each algorithm implementation includes timing statistics to compare their efficiency."
   ]
  },
  {
   "cell_type": "code",
   "execution_count": 1,
   "id": "a975cefb",
   "metadata": {},
   "outputs": [],
   "source": [
    "# Required Libraries\n",
    "import time\n",
    "from queue import PriorityQueue, deque\n",
    "\n",
    "# Graph representation\n",
    "graph = {\n",
    "    'Tipperary': {'Limerick': 39, 'Athlone': 126, 'Waterford': 89},\n",
    "    'Limerick': {'Tipperary': 39, 'Galway': 112, 'Killarney': 110},\n",
    "    'Galway': {'Limerick': 112, 'Castlebar': 77, 'Athlone': 85},\n",
    "    'Castlebar': {'Galway': 77, 'Sligo': 67},\n",
    "    'Sligo': {'Castlebar': 67, 'Letterkenny': 133, 'Belfast': 214},\n",
    "    'Letterkenny': {'Sligo': 133},\n",
    "    'Belfast': {'Sligo': 214, 'Dundalk': 83},\n",
    "    'Dundalk': {'Belfast': 83, 'Dublin': 81},\n",
    "    'Dublin': {'Dundalk': 81, 'Carlow': 90, 'Athlone': 124, 'Wexford': 141},\n",
    "    'Athlone': {'Galway': 85, 'Tipperary': 126, 'Dublin': 124},\n",
    "    'Carlow': {'Dublin': 90, 'Waterford': 80},\n",
    "    'Waterford': {'Tipperary': 89, 'Carlow': 80, 'Wexford': 59, 'Cork': 121},\n",
    "    'Wexford': {'Waterford': 59, 'Dublin': 141},\n",
    "    'Cork': {'Waterford': 121, 'Killarney': 88},\n",
    "    'Killarney': {'Cork': 88, 'Limerick': 110}\n",
    "}\n",
    "\n",
    "# Heuristic value\n",
    "heuristics = {\n",
    "    'Tipperary': 295, 'Limerick': 270, 'Galway': 180, 'Castlebar': 120,\n",
    "    'Sligo': 0, 'Letterkenny': 70, 'Belfast': 150, 'Dundalk': 140,\n",
    "    'Dublin': 210, 'Athlone': 220, 'Carlow': 250, 'Waterford': 290,\n",
    "    'Wexford': 280, 'Cork': 310, 'Killarney': 300\n",
    "}\n"
   ]
  },
  {
   "cell_type": "code",
   "execution_count": 2,
   "id": "a2b5829e",
   "metadata": {},
   "outputs": [],
   "source": [
    "def bfs(graph, start, goal):\n",
    "    start_time = time.perf_counter()\n",
    "    visited = set()\n",
    "    queue = deque([(start, [start])])\n",
    "\n",
    "    while queue:\n",
    "        (vertex, path) = queue.popleft()\n",
    "        if vertex == goal:\n",
    "            end_time = time.perf_counter()\n",
    "            return path, end_time - start_time\n",
    "\n",
    "        if vertex not in visited:\n",
    "            visited.add(vertex)\n",
    "            for neighbor in graph[vertex]:\n",
    "                if neighbor not in visited:\n",
    "                    queue.append((neighbor, path + [neighbor]))\n",
    "\n",
    "    end_time = time.perf_counter()\n",
    "    return None, end_time - start_time\n"
   ]
  },
  {
   "cell_type": "code",
   "execution_count": 3,
   "id": "6a9bc002",
   "metadata": {},
   "outputs": [],
   "source": [
    "def dijkstra(graph, start, goal):\n",
    "    start_time = time.perf_counter()\n",
    "    pq = PriorityQueue()\n",
    "    pq.put((0, start, [start]))\n",
    "    distances = {node: float('inf') for node in graph}\n",
    "    distances[start] = 0\n",
    "\n",
    "    while not pq.empty():\n",
    "        (current_distance, current_vertex, path) = pq.get()\n",
    "\n",
    "        if current_vertex == goal:\n",
    "            end_time = time.perf_counter()\n",
    "            return path, end_time - start_time\n",
    "\n",
    "        for neighbor, weight in graph[current_vertex].items():\n",
    "            distance = current_distance + weight\n",
    "            if distance < distances[neighbor]:\n",
    "                distances[neighbor] = distance\n",
    "                pq.put((distance, neighbor, path + [neighbor]))\n",
    "\n",
    "    end_time = time.perf_counter()\n",
    "    return None, end_time - start_time\n"
   ]
  },
  {
   "cell_type": "code",
   "execution_count": 4,
   "id": "69a9d257",
   "metadata": {},
   "outputs": [],
   "source": [
    "def astar(graph, start, goal, heuristics):\n",
    "    start_time = time.perf_counter()\n",
    "    pq = PriorityQueue()\n",
    "    pq.put((heuristics[start], start, [start]))\n",
    "    g_costs = {node: float('inf') for node in graph}\n",
    "    g_costs[start] = 0\n",
    "\n",
    "    while not pq.empty():\n",
    "        (f, current_vertex, path) = pq.get()\n",
    "\n",
    "        if current_vertex == goal:\n",
    "            end_time = time.perf_counter()\n",
    "            return path, end_time - start_time\n",
    "\n",
    "        for neighbor, cost in graph[current_vertex].items():\n",
    "            tentative_g_cost = g_costs[current_vertex] + cost\n",
    "            if tentative_g_cost < g_costs[neighbor]:\n",
    "                g_costs[neighbor] = tentative_g_cost\n",
    "                f_cost = tentative_g_cost + heuristics.get(neighbor, 0)\n",
    "                pq.put((f_cost, neighbor, path + [neighbor]))\n",
    "\n",
    "    end_time = time.perf_counter()\n",
    "    return None, end_time - start_time\n"
   ]
  },
  {
   "cell_type": "code",
   "execution_count": 5,
   "id": "e46872f5",
   "metadata": {},
   "outputs": [
    {
     "name": "stdout",
     "output_type": "stream",
     "text": [
      "BFS Path: ['Tipperary', 'Limerick', 'Galway', 'Castlebar', 'Sligo'] Time: 1.7000000070765964e-05\n",
      "Dijkstra's Path: ['Tipperary', 'Limerick', 'Galway', 'Castlebar', 'Sligo'] Time: 9.550000004310277e-05\n",
      "A* Path: ['Tipperary', 'Limerick', 'Galway', 'Castlebar', 'Sligo'] Time: 5.330000021785963e-05\n"
     ]
    }
   ],
   "source": [
    "# Testing the algorithms and measuring time\n",
    "start_node = 'Tipperary'\n",
    "goal_node = 'Sligo'\n",
    "\n",
    "# Run BFS\n",
    "bfs_path, bfs_time = bfs(graph, start_node, goal_node)\n",
    "print(\"BFS Path:\", bfs_path, \"Time:\", bfs_time)\n",
    "\n",
    "# Run Dijkstra's\n",
    "dijkstra_path, dijkstra_time = dijkstra(graph, start_node, goal_node)\n",
    "print(\"Dijkstra's Path:\", dijkstra_path, \"Time:\", dijkstra_time)\n",
    "\n",
    "# Run A*\n",
    "astar_path, astar_time = astar(graph, start_node, goal_node, heuristics)\n",
    "print(\"A* Path:\", astar_path, \"Time:\", astar_time)\n"
   ]
  }
 ],
 "metadata": {
  "kernelspec": {
   "display_name": "Python 3 (ipykernel)",
   "language": "python",
   "name": "python3"
  },
  "language_info": {
   "codemirror_mode": {
    "name": "ipython",
    "version": 3
   },
   "file_extension": ".py",
   "mimetype": "text/x-python",
   "name": "python",
   "nbconvert_exporter": "python",
   "pygments_lexer": "ipython3",
   "version": "3.12.5"
  }
 },
 "nbformat": 4,
 "nbformat_minor": 5
}
